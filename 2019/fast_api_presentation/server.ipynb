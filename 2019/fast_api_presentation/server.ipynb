{
 "cells": [
  {
   "cell_type": "markdown",
   "metadata": {
    "slideshow": {
     "slide_type": "slide"
    }
   },
   "source": [
    "# FastAPI for fun and profit\n",
    "\n",
    "FastAPI is a modern, fast (high-performance), web framework for building APIs with Python 3.6+ based on standard Python type hints."
   ]
  },
  {
   "cell_type": "markdown",
   "metadata": {
    "slideshow": {
     "slide_type": "slide"
    }
   },
   "source": [
    "## Features\n",
    "\n",
    " - Fast: Very high performance, on par with NodeJS and Go (thanks to Starlette and Pydantic).\n",
    " - One of the fastest Python frameworks available.\n",
    " - Easy to use, with great developer ergonimics\n",
    " - Excellent editor support\n",
    " - Robust and standards-based\n",
    " - OpenAPI and JSON Schema support (and good support, too)\n",
    " - Open Source (MIT)"
   ]
  },
  {
   "cell_type": "markdown",
   "metadata": {
    "slideshow": {
     "slide_type": "slide"
    }
   },
   "source": [
    "## A Brief discussion of types"
   ]
  },
  {
   "cell_type": "code",
   "execution_count": 1,
   "metadata": {
    "slideshow": {
     "slide_type": "subslide"
    }
   },
   "outputs": [],
   "source": [
    "def hello_with_age(person_to_greet, age_in_years):\n",
    "    in_100_years = age_in_years + 100\n",
    "    return f'Hello {person_to_greet} in 100 years you will be {in_100_years}'"
   ]
  },
  {
   "cell_type": "code",
   "execution_count": 2,
   "metadata": {
    "slideshow": {
     "slide_type": "subslide"
    }
   },
   "outputs": [
    {
     "ename": "TypeError",
     "evalue": "can only concatenate str (not \"int\") to str",
     "output_type": "error",
     "traceback": [
      "\u001b[0;31m---------------------------------------------------------------------------\u001b[0m",
      "\u001b[0;31mTypeError\u001b[0m                                 Traceback (most recent call last)",
      "\u001b[0;32m<ipython-input-2-9fcd1446bd4b>\u001b[0m in \u001b[0;36m<module>\u001b[0;34m\u001b[0m\n\u001b[0;32m----> 1\u001b[0;31m \u001b[0mhello_with_age\u001b[0m\u001b[0;34m(\u001b[0m\u001b[0;34m'PGH Python Meetup'\u001b[0m\u001b[0;34m,\u001b[0m \u001b[0;34m'6'\u001b[0m\u001b[0;34m)\u001b[0m\u001b[0;34m\u001b[0m\u001b[0;34m\u001b[0m\u001b[0m\n\u001b[0m",
      "\u001b[0;32m<ipython-input-1-5ab445330362>\u001b[0m in \u001b[0;36mhello_with_age\u001b[0;34m(person_to_greet, age_in_years)\u001b[0m\n\u001b[1;32m      1\u001b[0m \u001b[0;32mdef\u001b[0m \u001b[0mhello_with_age\u001b[0m\u001b[0;34m(\u001b[0m\u001b[0mperson_to_greet\u001b[0m\u001b[0;34m,\u001b[0m \u001b[0mage_in_years\u001b[0m\u001b[0;34m)\u001b[0m\u001b[0;34m:\u001b[0m\u001b[0;34m\u001b[0m\u001b[0;34m\u001b[0m\u001b[0m\n\u001b[0;32m----> 2\u001b[0;31m     \u001b[0min_100_years\u001b[0m \u001b[0;34m=\u001b[0m \u001b[0mage_in_years\u001b[0m \u001b[0;34m+\u001b[0m \u001b[0;36m100\u001b[0m\u001b[0;34m\u001b[0m\u001b[0;34m\u001b[0m\u001b[0m\n\u001b[0m\u001b[1;32m      3\u001b[0m     \u001b[0;32mreturn\u001b[0m \u001b[0;34mf'Hello {person_to_greet} in 100 years you will be {in_100_years}'\u001b[0m\u001b[0;34m\u001b[0m\u001b[0;34m\u001b[0m\u001b[0m\n",
      "\u001b[0;31mTypeError\u001b[0m: can only concatenate str (not \"int\") to str"
     ]
    }
   ],
   "source": [
    "hello_with_age('PGH Python Meetup', '6')"
   ]
  },
  {
   "cell_type": "code",
   "execution_count": 3,
   "metadata": {
    "slideshow": {
     "slide_type": "slide"
    }
   },
   "outputs": [],
   "source": [
    "def hello_with_age(person_to_greet: str, age_in_years: int) -> str:\n",
    "    in_100_years = age_in_years + 100\n",
    "    return f'Hello {person_to_greet} in 100 years you will be {in_100_years}'"
   ]
  },
  {
   "cell_type": "code",
   "execution_count": 4,
   "metadata": {
    "slideshow": {
     "slide_type": "subslide"
    }
   },
   "outputs": [
    {
     "data": {
      "text/plain": [
       "'Hello PGH Python Meetup in 100 years you will be 106'"
      ]
     },
     "execution_count": 4,
     "metadata": {},
     "output_type": "execute_result"
    }
   ],
   "source": [
    "hello_with_age('PGH Python Meetup', 6)"
   ]
  },
  {
   "cell_type": "markdown",
   "metadata": {
    "slideshow": {
     "slide_type": "slide"
    }
   },
   "source": [
    "### This is important because of Pydantic\n",
    "\n",
    "Pydantic is a data validation library that you'll want to use with FastAPI.  It's great for defining the shape of your objects (it works with dataclasses, too).  Pydantic's `BaseModel` also provides nice serialization."
   ]
  },
  {
   "cell_type": "code",
   "execution_count": 5,
   "metadata": {
    "slideshow": {
     "slide_type": "slide"
    }
   },
   "outputs": [],
   "source": [
    "from pydantic import BaseModel\n",
    "\n",
    "class Helloer(BaseModel):\n",
    "    person_to_greet: str\n",
    "    age_in_years: int\n",
    "        \n",
    "    def greet(self):\n",
    "        in_100_years = self.age_in_years * 100\n",
    "        return f'Hello {self.person_to_greet} in 100 years you will be {in_100_years}'\n",
    "\n",
    "def hello_with_pydantic(person: Helloer) -> str:\n",
    "    return person.greet()    "
   ]
  },
  {
   "cell_type": "code",
   "execution_count": 6,
   "metadata": {
    "slideshow": {
     "slide_type": "subslide"
    }
   },
   "outputs": [
    {
     "data": {
      "text/plain": [
       "<Helloer person_to_greet='Josh' age_in_years=10>"
      ]
     },
     "execution_count": 6,
     "metadata": {},
     "output_type": "execute_result"
    }
   ],
   "source": [
    "Helloer(person_to_greet='Josh', age_in_years=10)"
   ]
  },
  {
   "cell_type": "code",
   "execution_count": 7,
   "metadata": {
    "slideshow": {
     "slide_type": "subslide"
    }
   },
   "outputs": [
    {
     "data": {
      "text/plain": [
       "<Helloer person_to_greet='Josh' age_in_years=10>"
      ]
     },
     "execution_count": 7,
     "metadata": {},
     "output_type": "execute_result"
    }
   ],
   "source": [
    "Helloer(**{'person_to_greet': 'Josh', 'age_in_years': '10'})"
   ]
  },
  {
   "cell_type": "code",
   "execution_count": 8,
   "metadata": {
    "slideshow": {
     "slide_type": "subslide"
    }
   },
   "outputs": [
    {
     "ename": "ValidationError",
     "evalue": "1 validation error for Helloer\nage_in_years\n  field required (type=value_error.missing)",
     "output_type": "error",
     "traceback": [
      "\u001b[0;31m---------------------------------------------------------------------------\u001b[0m",
      "\u001b[0;31mValidationError\u001b[0m                           Traceback (most recent call last)",
      "\u001b[0;32m<ipython-input-8-fcab87689b67>\u001b[0m in \u001b[0;36m<module>\u001b[0;34m\u001b[0m\n\u001b[0;32m----> 1\u001b[0;31m \u001b[0mHelloer\u001b[0m\u001b[0;34m(\u001b[0m\u001b[0mperson_to_greet\u001b[0m\u001b[0;34m=\u001b[0m\u001b[0;34m'Josh'\u001b[0m\u001b[0;34m)\u001b[0m\u001b[0;34m\u001b[0m\u001b[0;34m\u001b[0m\u001b[0m\n\u001b[0m",
      "\u001b[0;32m~/Projects/personal/presentations/fast_api_presentation/venv/lib/python3.7/site-packages/pydantic/main.cpython-37m-x86_64-linux-gnu.so\u001b[0m in \u001b[0;36mpydantic.main.BaseModel.__init__\u001b[0;34m()\u001b[0m\n",
      "\u001b[0;32m~/Projects/personal/presentations/fast_api_presentation/venv/lib/python3.7/site-packages/pydantic/main.cpython-37m-x86_64-linux-gnu.so\u001b[0m in \u001b[0;36mpydantic.main.validate_model\u001b[0;34m()\u001b[0m\n",
      "\u001b[0;31mValidationError\u001b[0m: 1 validation error for Helloer\nage_in_years\n  field required (type=value_error.missing)"
     ]
    }
   ],
   "source": [
    "Helloer(person_to_greet='Josh')"
   ]
  },
  {
   "cell_type": "markdown",
   "metadata": {
    "slideshow": {
     "slide_type": "slide"
    }
   },
   "source": [
    "# Pydantic can do all manner of validations"
   ]
  },
  {
   "cell_type": "code",
   "execution_count": 9,
   "metadata": {
    "slideshow": {
     "slide_type": "slide"
    }
   },
   "outputs": [],
   "source": [
    "from pydantic import BaseModel, UrlStr, ValidationError, validator\n",
    "from pydantic.color import Color\n",
    "from enum import IntEnum\n",
    "\n",
    "class HLevel(IntEnum):\n",
    "    para = 0\n",
    "    header = 1\n",
    "    subhead = 2\n",
    "    subsubhead = 3  \n",
    "\n",
    "class HtmlThingy(BaseModel):\n",
    "    level: HLevel\n",
    "    text: str\n",
    "    color: Color\n",
    "    site: UrlStr\n",
    "        \n",
    "    @validator('text')\n",
    "    def text_length(cls, v, values, **kwargs):\n",
    "        if 'level' in values and values['level'] in {HLevel.header, HLevel.subhead}:\n",
    "            if len(v) > 12:\n",
    "                raise ValueError('Text is too long for level')\n",
    "        return v"
   ]
  },
  {
   "cell_type": "code",
   "execution_count": 10,
   "metadata": {
    "slideshow": {
     "slide_type": "subslide"
    }
   },
   "outputs": [
    {
     "data": {
      "text/plain": [
       "<HtmlThingy level=<HLevel.para: 0> text=\"I'm a little teapot\" color=<Color('black', (0, 0, 0))> site='http://gridwise.com'>"
      ]
     },
     "execution_count": 10,
     "metadata": {},
     "output_type": "execute_result"
    }
   ],
   "source": [
    "HtmlThingy(level=HLevel.para,\n",
    "           text=\"I'm a little teapot\",\n",
    "           color='#000000',\n",
    "           site='http://gridwise.com')"
   ]
  },
  {
   "cell_type": "code",
   "execution_count": 11,
   "metadata": {
    "slideshow": {
     "slide_type": "subslide"
    }
   },
   "outputs": [
    {
     "ename": "ValidationError",
     "evalue": "1 validation error for HtmlThingy\ntext\n  Text is too long for level (type=value_error)",
     "output_type": "error",
     "traceback": [
      "\u001b[0;31m---------------------------------------------------------------------------\u001b[0m",
      "\u001b[0;31mValidationError\u001b[0m                           Traceback (most recent call last)",
      "\u001b[0;32m<ipython-input-11-9451fd614b07>\u001b[0m in \u001b[0;36m<module>\u001b[0;34m\u001b[0m\n\u001b[1;32m      2\u001b[0m            \u001b[0mtext\u001b[0m\u001b[0;34m=\u001b[0m\u001b[0;34m\"I'm a little teapot\"\u001b[0m\u001b[0;34m,\u001b[0m\u001b[0;34m\u001b[0m\u001b[0;34m\u001b[0m\u001b[0m\n\u001b[1;32m      3\u001b[0m            \u001b[0mcolor\u001b[0m\u001b[0;34m=\u001b[0m\u001b[0;34m'#000000'\u001b[0m\u001b[0;34m,\u001b[0m\u001b[0;34m\u001b[0m\u001b[0;34m\u001b[0m\u001b[0m\n\u001b[0;32m----> 4\u001b[0;31m            site='http://gridwise.com')\n\u001b[0m",
      "\u001b[0;32m~/Projects/personal/presentations/fast_api_presentation/venv/lib/python3.7/site-packages/pydantic/main.cpython-37m-x86_64-linux-gnu.so\u001b[0m in \u001b[0;36mpydantic.main.BaseModel.__init__\u001b[0;34m()\u001b[0m\n",
      "\u001b[0;32m~/Projects/personal/presentations/fast_api_presentation/venv/lib/python3.7/site-packages/pydantic/main.cpython-37m-x86_64-linux-gnu.so\u001b[0m in \u001b[0;36mpydantic.main.validate_model\u001b[0;34m()\u001b[0m\n",
      "\u001b[0;31mValidationError\u001b[0m: 1 validation error for HtmlThingy\ntext\n  Text is too long for level (type=value_error)"
     ]
    }
   ],
   "source": [
    "HtmlThingy(level=HLevel.header,\n",
    "           text=\"I'm a little teapot\",\n",
    "           color='#000000',\n",
    "           site='http://gridwise.com')"
   ]
  },
  {
   "cell_type": "code",
   "execution_count": 12,
   "metadata": {
    "slideshow": {
     "slide_type": "subslide"
    }
   },
   "outputs": [
    {
     "ename": "ValidationError",
     "evalue": "1 validation error for HtmlThingy\nsite\n  url string does not match regex (type=value_error.url.regex)",
     "output_type": "error",
     "traceback": [
      "\u001b[0;31m---------------------------------------------------------------------------\u001b[0m",
      "\u001b[0;31mValidationError\u001b[0m                           Traceback (most recent call last)",
      "\u001b[0;32m<ipython-input-12-c5ba066ab13a>\u001b[0m in \u001b[0;36m<module>\u001b[0;34m\u001b[0m\n\u001b[1;32m      2\u001b[0m            \u001b[0mtext\u001b[0m\u001b[0;34m=\u001b[0m\u001b[0;34m\"Teapots!\"\u001b[0m\u001b[0;34m,\u001b[0m\u001b[0;34m\u001b[0m\u001b[0;34m\u001b[0m\u001b[0m\n\u001b[1;32m      3\u001b[0m            \u001b[0mcolor\u001b[0m\u001b[0;34m=\u001b[0m\u001b[0;34m'#000000'\u001b[0m\u001b[0;34m,\u001b[0m\u001b[0;34m\u001b[0m\u001b[0;34m\u001b[0m\u001b[0m\n\u001b[0;32m----> 4\u001b[0;31m            site='http:gridwise.com')\n\u001b[0m",
      "\u001b[0;32m~/Projects/personal/presentations/fast_api_presentation/venv/lib/python3.7/site-packages/pydantic/main.cpython-37m-x86_64-linux-gnu.so\u001b[0m in \u001b[0;36mpydantic.main.BaseModel.__init__\u001b[0;34m()\u001b[0m\n",
      "\u001b[0;32m~/Projects/personal/presentations/fast_api_presentation/venv/lib/python3.7/site-packages/pydantic/main.cpython-37m-x86_64-linux-gnu.so\u001b[0m in \u001b[0;36mpydantic.main.validate_model\u001b[0;34m()\u001b[0m\n",
      "\u001b[0;31mValidationError\u001b[0m: 1 validation error for HtmlThingy\nsite\n  url string does not match regex (type=value_error.url.regex)"
     ]
    }
   ],
   "source": [
    "HtmlThingy(level=HLevel.header,\n",
    "           text=\"Teapots!\",\n",
    "           color='#000000',\n",
    "           site='http:gridwise.com')"
   ]
  },
  {
   "cell_type": "code",
   "execution_count": 13,
   "metadata": {
    "slideshow": {
     "slide_type": "subslide"
    }
   },
   "outputs": [
    {
     "data": {
      "text/plain": [
       "<HtmlThingy level=<HLevel.header: 1> text='Teapots!' color=<Color('lightblue', (173, 216, 230))> site='http://gridwise.com'>"
      ]
     },
     "execution_count": 13,
     "metadata": {},
     "output_type": "execute_result"
    }
   ],
   "source": [
    "HtmlThingy(level=HLevel.header,\n",
    "           text=\"Teapots!\",\n",
    "           color='lightblue',\n",
    "           site='http://gridwise.com')"
   ]
  },
  {
   "cell_type": "markdown",
   "metadata": {
    "slideshow": {
     "slide_type": "slide"
    }
   },
   "source": [
    "# Pydantic can serialize and deserialize"
   ]
  },
  {
   "cell_type": "code",
   "execution_count": 14,
   "metadata": {
    "slideshow": {
     "slide_type": "subslide"
    }
   },
   "outputs": [
    {
     "data": {
      "text/plain": [
       "{'level': <HLevel.header: 1>,\n",
       " 'text': 'Teapots!',\n",
       " 'color': <Color('lightblue', (173, 216, 230))>,\n",
       " 'site': 'http://gridwise.com'}"
      ]
     },
     "execution_count": 14,
     "metadata": {},
     "output_type": "execute_result"
    }
   ],
   "source": [
    "HtmlThingy(level=HLevel.header,\n",
    "           text=\"Teapots!\",\n",
    "           color='lightblue',\n",
    "           site='http://gridwise.com').dict()"
   ]
  },
  {
   "cell_type": "code",
   "execution_count": 15,
   "metadata": {
    "scrolled": true,
    "slideshow": {
     "slide_type": "subslide"
    }
   },
   "outputs": [
    {
     "data": {
      "text/plain": [
       "'{\"level\": 1, \"text\": \"Teapots!\", \"color\": \"lightblue\", \"site\": \"http://gridwise.com\"}'"
      ]
     },
     "execution_count": 15,
     "metadata": {},
     "output_type": "execute_result"
    }
   ],
   "source": [
    "HtmlThingy(level=HLevel.header,\n",
    "           text=\"Teapots!\",\n",
    "           color='lightblue',\n",
    "           site='http://gridwise.com').json()"
   ]
  },
  {
   "cell_type": "code",
   "execution_count": 16,
   "metadata": {
    "slideshow": {
     "slide_type": "subslide"
    }
   },
   "outputs": [
    {
     "data": {
      "text/plain": [
       "<HtmlThingy level=<HLevel.header: 1> text='Teapots!' color=<Color('lightblue', (173, 216, 230))> site='http://gridwise.com'>"
      ]
     },
     "execution_count": 16,
     "metadata": {},
     "output_type": "execute_result"
    }
   ],
   "source": [
    "import json\n",
    "\n",
    "HtmlThingy(**json.loads(_))"
   ]
  },
  {
   "cell_type": "markdown",
   "metadata": {
    "slideshow": {
     "slide_type": "slide"
    }
   },
   "source": [
    "# Hello FastAPI"
   ]
  },
  {
   "cell_type": "code",
   "execution_count": 17,
   "metadata": {
    "slideshow": {
     "slide_type": "slide"
    }
   },
   "outputs": [
    {
     "name": "stdout",
     "output_type": "stream",
     "text": [
      "Overwriting hello.py\n"
     ]
    }
   ],
   "source": [
    "%%writefile hello.py\n",
    "from fastapi import FastAPI\n",
    "from pydantic import BaseModel\n",
    "\n",
    "\n",
    "app = FastAPI()\n",
    "\n",
    "class Greeting(BaseModel):\n",
    "    message: str\n",
    "\n",
    "@app.get(\"/\", response_model=Greeting)\n",
    "async def root(name: str = None):\n",
    "    if name is None:\n",
    "        return Greeting(message=\"Hello World\")\n",
    "    else:\n",
    "        return Greeting(message=f\"Hello {name}\")"
   ]
  },
  {
   "cell_type": "markdown",
   "metadata": {
    "slideshow": {
     "slide_type": "slide"
    }
   },
   "source": [
    "# run with uvicorn\n",
    "\n",
    "```$ uvicorn hello:app```"
   ]
  },
  {
   "cell_type": "code",
   "execution_count": 18,
   "metadata": {
    "slideshow": {
     "slide_type": "slide"
    }
   },
   "outputs": [
    {
     "data": {
      "text/plain": [
       "{'message': 'Hello World'}"
      ]
     },
     "execution_count": 18,
     "metadata": {},
     "output_type": "execute_result"
    }
   ],
   "source": [
    "import requests\n",
    "\n",
    "requests.get('http://localhost:8000').json()"
   ]
  },
  {
   "cell_type": "code",
   "execution_count": 19,
   "metadata": {
    "slideshow": {
     "slide_type": "slide"
    }
   },
   "outputs": [
    {
     "data": {
      "text/plain": [
       "{'message': 'Hello PGH Python'}"
      ]
     },
     "execution_count": 19,
     "metadata": {},
     "output_type": "execute_result"
    }
   ],
   "source": [
    "requests.get('http://localhost:8000',params={'name': 'PGH Python'}).json()"
   ]
  },
  {
   "cell_type": "markdown",
   "metadata": {
    "slideshow": {
     "slide_type": "subslide"
    }
   },
   "source": [
    "This can be run using `uvicorn hello:app --reload` and then tested with `ab` giving 1838 (ish) requests per second"
   ]
  },
  {
   "cell_type": "code",
   "execution_count": 20,
   "metadata": {
    "slideshow": {
     "slide_type": "slide"
    }
   },
   "outputs": [
    {
     "name": "stdout",
     "output_type": "stream",
     "text": [
      "Overwriting sleepy.py\n"
     ]
    }
   ],
   "source": [
    "%%writefile sleepy.py\n",
    "from fastapi import FastAPI\n",
    "from pydantic import BaseModel\n",
    "import time\n",
    "import random\n",
    "\n",
    "random.seed(42)\n",
    "\n",
    "app = FastAPI()\n",
    "\n",
    "class Greeting(BaseModel):\n",
    "    message: str\n",
    "\n",
    "@app.get(\"/\", response_model=Greeting)\n",
    "async def root(name: str = None):\n",
    "    if random.randint(0,100) <= 10:\n",
    "        time.sleep(0.5)\n",
    "    if name is None:\n",
    "        return Greeting(message=\"Hello World\")\n",
    "    else:\n",
    "        return Greeting(message=f\"Hello {name}\")"
   ]
  },
  {
   "cell_type": "code",
   "execution_count": 21,
   "metadata": {
    "slideshow": {
     "slide_type": "slide"
    }
   },
   "outputs": [
    {
     "data": {
      "text/plain": [
       "{'message': 'Hello World'}"
      ]
     },
     "execution_count": 21,
     "metadata": {},
     "output_type": "execute_result"
    }
   ],
   "source": [
    "requests.get('http://localhost:8000',\n",
    "             params={'badname': 'PGH Python'}).json()"
   ]
  },
  {
   "cell_type": "code",
   "execution_count": 22,
   "metadata": {
    "slideshow": {
     "slide_type": "slide"
    }
   },
   "outputs": [
    {
     "name": "stdout",
     "output_type": "stream",
     "text": [
      "Overwriting sleepy.py\n"
     ]
    }
   ],
   "source": [
    "%%writefile sleepy.py\n",
    "from fastapi import FastAPI, Query\n",
    "from pydantic import BaseModel\n",
    "import time\n",
    "import random\n",
    "\n",
    "random.seed(42)\n",
    "\n",
    "app = FastAPI()\n",
    "\n",
    "class Greeting(BaseModel):\n",
    "    message: str\n",
    "\n",
    "@app.get(\"/\", response_model=Greeting)\n",
    "async def root(name: str = Query(..., min_length=3)):\n",
    "    if random.randint(0,100) <= 10:\n",
    "        time.sleep(0.5)\n",
    "    if name is None:\n",
    "        return Greeting(message=\"Hello World\")\n",
    "    else:\n",
    "        return Greeting(message=f\"Hello {name}\")"
   ]
  },
  {
   "cell_type": "code",
   "execution_count": 23,
   "metadata": {
    "slideshow": {
     "slide_type": "slide"
    }
   },
   "outputs": [
    {
     "data": {
      "text/plain": [
       "{'detail': [{'loc': ['query', 'name'],\n",
       "   'msg': 'field required',\n",
       "   'type': 'value_error.missing'}]}"
      ]
     },
     "execution_count": 23,
     "metadata": {},
     "output_type": "execute_result"
    }
   ],
   "source": [
    "requests.get('http://localhost:8000',\n",
    "             params={'badname': 'PGH Python'}).json()"
   ]
  },
  {
   "cell_type": "code",
   "execution_count": 24,
   "metadata": {
    "slideshow": {
     "slide_type": "slide"
    }
   },
   "outputs": [
    {
     "data": {
      "text/plain": [
       "{'detail': [{'loc': ['query', 'name'],\n",
       "   'msg': 'ensure this value has at least 3 characters',\n",
       "   'type': 'value_error.any_str.min_length',\n",
       "   'ctx': {'limit_value': 3}}]}"
      ]
     },
     "execution_count": 24,
     "metadata": {},
     "output_type": "execute_result"
    }
   ],
   "source": [
    "requests.get('http://localhost:8000',\n",
    "             params={'name': 'PG'}).json()"
   ]
  },
  {
   "cell_type": "markdown",
   "metadata": {
    "slideshow": {
     "slide_type": "slide"
    }
   },
   "source": [
    "## A Real Application:  Bus Times\n",
    "\n",
    "Let's build a real application.  We're going to connect to the truetime api\n",
    "and get some information about busses."
   ]
  },
  {
   "cell_type": "markdown",
   "metadata": {
    "slideshow": {
     "slide_type": "slide"
    }
   },
   "source": [
    "### Endpoints\n",
    "\n",
    "This api is going to have two endpoints.\n",
    "\n",
    " - GET arrivaltimes/{stop_id}\n",
    " - POST approximatetimes\n",
    " \n",
    "The first is for api integration and the second is for HTML forms. "
   ]
  },
  {
   "cell_type": "code",
   "execution_count": 25,
   "metadata": {
    "slideshow": {
     "slide_type": "slide"
    }
   },
   "outputs": [
    {
     "name": "stdout",
     "output_type": "stream",
     "text": [
      "Overwriting truetime.py\n"
     ]
    }
   ],
   "source": [
    "%%writefile truetime.py\n",
    "import requests\n",
    "from pydantic import BaseModel, Schema\n",
    "from enum import Enum\n",
    "from typing import List\n",
    "from environs import Env\n",
    "\n",
    "env = Env()\n",
    "env.read_env()\n",
    "\n",
    "class BusType(str, Enum):\n",
    "    ARRIVAL='A'\n",
    "    DEPARTURE='D'\n",
    "\n",
    "class Prediction(BaseModel):\n",
    "    typ: BusType\n",
    "    stpnm: str = Schema(..., title=\"Stop Number\",\n",
    "                        description=\"The bus stop id\")\n",
    "    rt: str = Schema(..., title=\"Route\",\n",
    "                     description=\"The bus route ID\")\n",
    "    des: str = Schema(...,\n",
    "                      title=\"Destination\")\n",
    "    prdctdn: str = Schema(...,\n",
    "                          title=\"Prediction\",\n",
    "                          description=(\"A string description that \"\n",
    "                                       \"is most often minutes but \"\n",
    "                                       \"can be DUE or other descriptive text\"))\n",
    "\n",
    "class Prd(BaseModel):\n",
    "    prd: List[Prediction] = Schema(...,\n",
    "                                   title=\"Predictions\",\n",
    "                                   description=\"A list of Prediction objects\")"
   ]
  },
  {
   "cell_type": "code",
   "execution_count": 26,
   "metadata": {
    "slideshow": {
     "slide_type": "subslide"
    }
   },
   "outputs": [
    {
     "name": "stdout",
     "output_type": "stream",
     "text": [
      "Appending to truetime.py\n"
     ]
    }
   ],
   "source": [
    "%%writefile truetime.py -a\n",
    "def get_predictions(stop_id: str) -> Prd:\n",
    "    url = \"http://truetime.portauthority.org/bustime/api/v3/getpredictions\"\n",
    "\n",
    "    querystring = {\"key\": env('PAKEY'),\n",
    "                   \"format\": \"json\",\n",
    "                   \"rtpidatafeed\": \"Port Authority Bus\",\n",
    "                   \"stpid\": stop_id}\n",
    "\n",
    "    response = requests.get(url, params=querystring)\n",
    "    if response.status_code == 200:\n",
    "        jdat = response.json()\n",
    "        res = Prd(**jdat['bustime-response'])\n",
    "        return res\n",
    "    else:\n",
    "        raise ValueError(response)"
   ]
  },
  {
   "cell_type": "code",
   "execution_count": 27,
   "metadata": {
    "slideshow": {
     "slide_type": "slide"
    }
   },
   "outputs": [
    {
     "name": "stdout",
     "output_type": "stream",
     "text": [
      "Overwriting bustimes.py\n"
     ]
    }
   ],
   "source": [
    "%%writefile bustimes.py\n",
    "from fastapi import FastAPI, Path, Form\n",
    "from pydantic import BaseModel\n",
    "from truetime import get_predictions, Prd\n",
    "app = FastAPI()\n",
    "\n",
    "@app.get('/arrivaltimes/{stop_id}', response_model=Prd)\n",
    "def get_stop_prediction(stop_id: str = Path(...,\n",
    "                                            title=\"The ID Number of the bus stop.\")):\n",
    "    return get_predictions(stop_id)\n",
    "\n",
    "@app.post('/approximatetimes', response_model=Prd)\n",
    "def get_predictions_for_form(stop_id: str = Form(...,\n",
    "                                                 title=\"the ID Number of the bus stop\")):\n",
    "    return get_predictions(stop_id)"
   ]
  },
  {
   "cell_type": "code",
   "execution_count": 28,
   "metadata": {
    "slideshow": {
     "slide_type": "slide"
    }
   },
   "outputs": [
    {
     "data": {
      "text/plain": [
       "{'prd': [{'typ': 'A',\n",
       "   'stpnm': 'FORBES AVE + BEECHWOOD',\n",
       "   'rt': '61A',\n",
       "   'des': 'Braddock Shopping Ctr',\n",
       "   'prdctdn': 'DUE'},\n",
       "  {'typ': 'A',\n",
       "   'stpnm': 'FORBES AVE + BEECHWOOD',\n",
       "   'rt': '61B',\n",
       "   'des': 'Braddock Hills Shopping Ctr',\n",
       "   'prdctdn': '12'},\n",
       "  {'typ': 'A',\n",
       "   'stpnm': 'FORBES AVE + BEECHWOOD',\n",
       "   'rt': '61A',\n",
       "   'des': 'Braddock Shopping Ctr',\n",
       "   'prdctdn': '14'},\n",
       "  {'typ': 'A',\n",
       "   'stpnm': 'FORBES AVE + BEECHWOOD',\n",
       "   'rt': '61B',\n",
       "   'des': 'Braddock',\n",
       "   'prdctdn': '24'}]}"
      ]
     },
     "execution_count": 28,
     "metadata": {},
     "output_type": "execute_result"
    }
   ],
   "source": [
    "requests.get('http://localhost:8000/arrivaltimes/7129').json()"
   ]
  },
  {
   "cell_type": "code",
   "execution_count": 29,
   "metadata": {
    "slideshow": {
     "slide_type": "slide"
    }
   },
   "outputs": [
    {
     "data": {
      "text/plain": [
       "{'prd': [{'typ': 'A',\n",
       "   'stpnm': 'FORBES AVE + BEECHWOOD',\n",
       "   'rt': '61B',\n",
       "   'des': 'Braddock Hills Shopping Ctr',\n",
       "   'prdctdn': '11'},\n",
       "  {'typ': 'A',\n",
       "   'stpnm': 'FORBES AVE + BEECHWOOD',\n",
       "   'rt': '61A',\n",
       "   'des': 'Braddock Shopping Ctr',\n",
       "   'prdctdn': '14'},\n",
       "  {'typ': 'A',\n",
       "   'stpnm': 'FORBES AVE + BEECHWOOD',\n",
       "   'rt': '61B',\n",
       "   'des': 'Braddock',\n",
       "   'prdctdn': '24'}]}"
      ]
     },
     "execution_count": 29,
     "metadata": {},
     "output_type": "execute_result"
    }
   ],
   "source": [
    "requests.post('http://localhost:8000/approximatetimes', data={'stop_id': '7129'}).json()"
   ]
  },
  {
   "cell_type": "markdown",
   "metadata": {
    "slideshow": {
     "slide_type": "slide"
    }
   },
   "source": [
    "## Testing\n",
    "\n",
    "FastAPI tests well with pytest.  "
   ]
  },
  {
   "cell_type": "code",
   "execution_count": 30,
   "metadata": {
    "slideshow": {
     "slide_type": "slide"
    }
   },
   "outputs": [
    {
     "name": "stdout",
     "output_type": "stream",
     "text": [
      "Overwriting test_busapi.py\n"
     ]
    }
   ],
   "source": [
    "%%writefile test_busapi.py\n",
    "from starlette.testclient import TestClient\n",
    "from bustimes import app\n",
    "\n",
    "client = TestClient(app)\n",
    "\n",
    "\n",
    "def test_read_main():\n",
    "    response = client.get(\"/\")\n",
    "    assert response.status_code == 404\n",
    "\n",
    "def test_get_prediction():\n",
    "    response = client.get('/arrivaltimes/7129')\n",
    "    assert response.status_code == 200\n",
    "    \n",
    "def test_html_form_prediction():\n",
    "    response = client.post('/approximatetimes')\n",
    "    assert response.status_code == 422\n",
    "    \n",
    "    response = client.post('/approximatetimes',\n",
    "                           data={'stop_id': '7129'})\n",
    "    assert response.status_code == 200"
   ]
  },
  {
   "cell_type": "code",
   "execution_count": 31,
   "metadata": {
    "slideshow": {
     "slide_type": "subslide"
    }
   },
   "outputs": [
    {
     "name": "stdout",
     "output_type": "stream",
     "text": [
      "\u001b[1m============================= test session starts ==============================\u001b[0m\n",
      "platform linux -- Python 3.7.3, pytest-5.1.2, py-1.8.0, pluggy-0.13.0\n",
      "rootdir: /home/jsmith/Projects/personal/presentations/fast_api_presentation\n",
      "collected 3 items                                                              \u001b[0m\n",
      "\n",
      "test_busapi.py \u001b[32m.\u001b[0m\u001b[32m.\u001b[0m\u001b[32m.\u001b[0m\u001b[36m                                                       [100%]\u001b[0m\n",
      "\n",
      "\u001b[32m\u001b[1m============================== 3 passed in 0.38s ===============================\u001b[0m\n"
     ]
    }
   ],
   "source": [
    "!pytest test_busapi.py"
   ]
  },
  {
   "cell_type": "markdown",
   "metadata": {
    "slideshow": {
     "slide_type": "slide"
    }
   },
   "source": [
    "## Now lets add a feature\n",
    "\n",
    "I'd like to be able to POST json to the api, too.  We can easily add another endpoint\n",
    "to take a json POST and then update the tests.  "
   ]
  },
  {
   "cell_type": "code",
   "execution_count": 32,
   "metadata": {
    "slideshow": {
     "slide_type": "slide"
    }
   },
   "outputs": [
    {
     "name": "stdout",
     "output_type": "stream",
     "text": [
      "Overwriting bustimes.py\n"
     ]
    }
   ],
   "source": [
    "%%writefile bustimes.py\n",
    "from fastapi import FastAPI, Path, Form\n",
    "from pydantic import BaseModel, Schema\n",
    "from truetime import get_predictions, Prd\n",
    "app = FastAPI()\n",
    "\n",
    "class ArrivalRequest(BaseModel):\n",
    "    stop_number: str = Schema(...,\n",
    "                              description=\"the string version of the bus stop number\")\n",
    "\n",
    "@app.get('/arrivaltimes/{stop_id}', response_model=Prd)\n",
    "def get_stop_prediction(stop_id: str = Path(...,\n",
    "                                            title=\"The ID Number of the bus stop.\")):\n",
    "    return get_predictions(stop_id)\n",
    "\n",
    "@app.post('/approximatetimes', response_model=Prd)\n",
    "def get_predictions_for_form(stop_id: str = Form(...,\n",
    "                                                 title=\"the ID Number of the bus stop\")):\n",
    "    return get_predictions(stop_id)\n",
    "\n",
    "@app.post('/arrivaltimes', response_model=Prd)\n",
    "def via_post_arrival_times(data: ArrivalRequest):\n",
    "    return get_predictions(data.stop_number)"
   ]
  },
  {
   "cell_type": "code",
   "execution_count": 33,
   "metadata": {
    "slideshow": {
     "slide_type": "slide"
    }
   },
   "outputs": [
    {
     "name": "stdout",
     "output_type": "stream",
     "text": [
      "Overwriting test_busapi.py\n"
     ]
    }
   ],
   "source": [
    "%%writefile test_busapi.py\n",
    "from starlette.testclient import TestClient\n",
    "from bustimes import app, ArrivalRequest\n",
    "\n",
    "client = TestClient(app)\n",
    "\n",
    "\n",
    "def test_read_main():\n",
    "    response = client.get(\"/\")\n",
    "    assert response.status_code == 404\n",
    "\n",
    "def test_get_prediction():\n",
    "    response = client.get('/arrivaltimes/7129')\n",
    "    assert response.status_code == 200\n",
    "    \n",
    "def test_html_form_prediction():\n",
    "    response = client.post('/approximatetimes')\n",
    "    assert response.status_code == 422\n",
    "    \n",
    "    response = client.post('/approximatetimes', data={'stop_id': '7129'})\n",
    "    assert response.status_code == 200\n",
    "    \n",
    "def test_json_request():\n",
    "    req = ArrivalRequest(stop_number=\"7129\")\n",
    "    response = client.post('/arrivaltimes', json=req.dict())\n",
    "    assert response.status_code == 200"
   ]
  },
  {
   "cell_type": "code",
   "execution_count": 34,
   "metadata": {
    "slideshow": {
     "slide_type": "subslide"
    }
   },
   "outputs": [
    {
     "name": "stdout",
     "output_type": "stream",
     "text": [
      "\u001b[1m============================= test session starts ==============================\u001b[0m\n",
      "platform linux -- Python 3.7.3, pytest-5.1.2, py-1.8.0, pluggy-0.13.0\n",
      "rootdir: /home/jsmith/Projects/personal/presentations/fast_api_presentation\n",
      "collected 4 items                                                              \u001b[0m\n",
      "\n",
      "test_busapi.py \u001b[32m.\u001b[0m\u001b[32m.\u001b[0m\u001b[32m.\u001b[0m\u001b[32m.\u001b[0m\u001b[36m                                                      [100%]\u001b[0m\n",
      "\n",
      "\u001b[32m\u001b[1m============================== 4 passed in 0.49s ===============================\u001b[0m\n"
     ]
    }
   ],
   "source": [
    "!pytest test_busapi.py"
   ]
  },
  {
   "cell_type": "markdown",
   "metadata": {
    "slideshow": {
     "slide_type": "slide"
    }
   },
   "source": [
    "# And Then There Are Docs\n",
    "\n",
    "http://localhost:8000/redoc\n",
    "\n",
    "http://localhost:8000/"
   ]
  },
  {
   "cell_type": "markdown",
   "metadata": {
    "slideshow": {
     "slide_type": "slide"
    }
   },
   "source": [
    "# Thanks!\n",
    "\n",
    "\n",
    "You can find this notebook at:\n",
    "\n",
    "https://github.com/kognate/presentations/blob/master/fast_api_presentation/server.ipynb\n",
    "\n",
    "I'm Josh Smith   \n",
    "https://keybase.io/kognate\n",
    "kognate@gmail.com"
   ]
  }
 ],
 "metadata": {
  "celltoolbar": "Slideshow",
  "kernelspec": {
   "display_name": "Python 3",
   "language": "python",
   "name": "python3"
  },
  "language_info": {
   "codemirror_mode": {
    "name": "ipython",
    "version": 3
   },
   "file_extension": ".py",
   "mimetype": "text/x-python",
   "name": "python",
   "nbconvert_exporter": "python",
   "pygments_lexer": "ipython3",
   "version": "3.7.3"
  }
 },
 "nbformat": 4,
 "nbformat_minor": 4
}
